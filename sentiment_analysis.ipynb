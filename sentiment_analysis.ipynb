{
  "nbformat": 4,
  "nbformat_minor": 0,
  "metadata": {
    "colab": {
      "name": "sentiment_analysis.ipynb",
      "provenance": [],
      "collapsed_sections": [],
      "include_colab_link": true
    },
    "kernelspec": {
      "name": "python3",
      "display_name": "Python 3"
    },
    "accelerator": "GPU"
  },
  "cells": [
    {
      "cell_type": "markdown",
      "metadata": {
        "id": "view-in-github",
        "colab_type": "text"
      },
      "source": [
        "<a href=\"https://colab.research.google.com/github/RajBharti25/Text-mining-from-live-tweet-using-Tweeter-API-and-machine-learning/blob/master/sentiment_analysis.ipynb\" target=\"_parent\"><img src=\"https://colab.research.google.com/assets/colab-badge.svg\" alt=\"Open In Colab\"/></a>"
      ]
    },
    {
      "cell_type": "code",
      "metadata": {
        "id": "QCa4pvu4tJ2o",
        "colab_type": "code",
        "colab": {}
      },
      "source": [
        "from google.colab import drive"
      ],
      "execution_count": 0,
      "outputs": []
    },
    {
      "cell_type": "code",
      "metadata": {
        "id": "7s2OIEmmvpuO",
        "colab_type": "code",
        "outputId": "e3aa33d8-4c7a-49fb-e169-7510c3eaf586",
        "colab": {
          "base_uri": "https://localhost:8080/",
          "height": 121
        }
      },
      "source": [
        "drive.mount('/content/gdrive')"
      ],
      "execution_count": 0,
      "outputs": [
        {
          "output_type": "stream",
          "text": [
            "Go to this URL in a browser: https://accounts.google.com/o/oauth2/auth?client_id=947318989803-6bn6qk8qdgf4n4g3pfee6491hc0brc4i.apps.googleusercontent.com&redirect_uri=urn%3Aietf%3Awg%3Aoauth%3A2.0%3Aoob&scope=email%20https%3A%2F%2Fwww.googleapis.com%2Fauth%2Fdocs.test%20https%3A%2F%2Fwww.googleapis.com%2Fauth%2Fdrive%20https%3A%2F%2Fwww.googleapis.com%2Fauth%2Fdrive.photos.readonly%20https%3A%2F%2Fwww.googleapis.com%2Fauth%2Fpeopleapi.readonly&response_type=code\n",
            "\n",
            "Enter your authorization code:\n",
            "··········\n",
            "Mounted at /content/gdrive\n"
          ],
          "name": "stdout"
        }
      ]
    },
    {
      "cell_type": "code",
      "metadata": {
        "id": "udfRh1g12W0C",
        "colab_type": "code",
        "outputId": "2548d51b-3507-44e3-b02f-cdaa5136c470",
        "colab": {
          "base_uri": "https://localhost:8080/",
          "height": 34
        }
      },
      "source": [
        "%cd /content/gdrive/My Drive/Raj Colab Notebooks/Sentiment Analysis/"
      ],
      "execution_count": 0,
      "outputs": [
        {
          "output_type": "stream",
          "text": [
            "/content/gdrive/My Drive/Raj Colab Notebooks/Sentiment Analysis\n"
          ],
          "name": "stdout"
        }
      ]
    },
    {
      "cell_type": "code",
      "metadata": {
        "id": "6rOz7KBhwj1V",
        "colab_type": "code",
        "colab": {}
      },
      "source": [
        "import numpy as np # linear algebra\n",
        "import pandas as pd # data processing, CSV file I/O (e.g. pd.read_csv)\n",
        "import nltk\n",
        "import re\n",
        "from sklearn.model_selection import train_test_split\n",
        "from sklearn.feature_extraction.text import CountVectorizer\n",
        "from sklearn.linear_model import LogisticRegression\n",
        "from sklearn.metrics import roc_auc_score\n",
        "from sklearn.feature_extraction.text import TfidfVectorizer"
      ],
      "execution_count": 0,
      "outputs": []
    },
    {
      "cell_type": "code",
      "metadata": {
        "id": "zyq6Tg6Ox1rD",
        "colab_type": "code",
        "outputId": "64f9dca1-2403-4176-e627-0b33a5be7316",
        "colab": {
          "base_uri": "https://localhost:8080/",
          "height": 136
        }
      },
      "source": [
        "cols =['target', 'id', 'date', 'flag', 'user', 'text']\n",
        "data=pd.read_csv('/content/gdrive/My Drive/Raj Colab Notebooks/Sentiment Analysis/sentiment140.csv',encoding='latin-1',names=cols)\n",
        "data.head(3)"
      ],
      "execution_count": 0,
      "outputs": [
        {
          "output_type": "execute_result",
          "data": {
            "text/html": [
              "<div>\n",
              "<style scoped>\n",
              "    .dataframe tbody tr th:only-of-type {\n",
              "        vertical-align: middle;\n",
              "    }\n",
              "\n",
              "    .dataframe tbody tr th {\n",
              "        vertical-align: top;\n",
              "    }\n",
              "\n",
              "    .dataframe thead th {\n",
              "        text-align: right;\n",
              "    }\n",
              "</style>\n",
              "<table border=\"1\" class=\"dataframe\">\n",
              "  <thead>\n",
              "    <tr style=\"text-align: right;\">\n",
              "      <th></th>\n",
              "      <th>target</th>\n",
              "      <th>id</th>\n",
              "      <th>date</th>\n",
              "      <th>flag</th>\n",
              "      <th>user</th>\n",
              "      <th>text</th>\n",
              "    </tr>\n",
              "  </thead>\n",
              "  <tbody>\n",
              "    <tr>\n",
              "      <th>0</th>\n",
              "      <td>0</td>\n",
              "      <td>1467810369</td>\n",
              "      <td>Mon Apr 06 22:19:45 PDT 2009</td>\n",
              "      <td>NO_QUERY</td>\n",
              "      <td>_TheSpecialOne_</td>\n",
              "      <td>@switchfoot http://twitpic.com/2y1zl - Awww, t...</td>\n",
              "    </tr>\n",
              "    <tr>\n",
              "      <th>1</th>\n",
              "      <td>0</td>\n",
              "      <td>1467810672</td>\n",
              "      <td>Mon Apr 06 22:19:49 PDT 2009</td>\n",
              "      <td>NO_QUERY</td>\n",
              "      <td>scotthamilton</td>\n",
              "      <td>is upset that he can't update his Facebook by ...</td>\n",
              "    </tr>\n",
              "    <tr>\n",
              "      <th>2</th>\n",
              "      <td>0</td>\n",
              "      <td>1467810917</td>\n",
              "      <td>Mon Apr 06 22:19:53 PDT 2009</td>\n",
              "      <td>NO_QUERY</td>\n",
              "      <td>mattycus</td>\n",
              "      <td>@Kenichan I dived many times for the ball. Man...</td>\n",
              "    </tr>\n",
              "  </tbody>\n",
              "</table>\n",
              "</div>"
            ],
            "text/plain": [
              "   target  ...                                               text\n",
              "0       0  ...  @switchfoot http://twitpic.com/2y1zl - Awww, t...\n",
              "1       0  ...  is upset that he can't update his Facebook by ...\n",
              "2       0  ...  @Kenichan I dived many times for the ball. Man...\n",
              "\n",
              "[3 rows x 6 columns]"
            ]
          },
          "metadata": {
            "tags": []
          },
          "execution_count": 9
        }
      ]
    },
    {
      "cell_type": "code",
      "metadata": {
        "id": "KpHNMi_0zHZf",
        "colab_type": "code",
        "outputId": "37a70c6d-c826-4274-c3f3-79aa2ba874e8",
        "colab": {
          "base_uri": "https://localhost:8080/",
          "height": 195
        }
      },
      "source": [
        "data =data[['text', 'target']]\n",
        "data['text']=data.loc[:,'text'].apply(lambda x:x.lower())\n",
        "data['text']=data.loc[:,'text'].apply(lambda x:re.sub('[^a-zA-z0-9\\s]','',x))\n",
        "data['text'] = data.loc[:,'text'].replace('rt',' ')\n",
        "data['text']=data.loc[:,'text'].apply(lambda x:x.split())\n",
        "porter = nltk.PorterStemmer()\n",
        "data['text']=data.loc[:,'text'].apply(lambda x:porter.stem(str(x[:])))\n",
        "data.head()"
      ],
      "execution_count": 0,
      "outputs": [
        {
          "output_type": "execute_result",
          "data": {
            "text/html": [
              "<div>\n",
              "<style scoped>\n",
              "    .dataframe tbody tr th:only-of-type {\n",
              "        vertical-align: middle;\n",
              "    }\n",
              "\n",
              "    .dataframe tbody tr th {\n",
              "        vertical-align: top;\n",
              "    }\n",
              "\n",
              "    .dataframe thead th {\n",
              "        text-align: right;\n",
              "    }\n",
              "</style>\n",
              "<table border=\"1\" class=\"dataframe\">\n",
              "  <thead>\n",
              "    <tr style=\"text-align: right;\">\n",
              "      <th></th>\n",
              "      <th>text</th>\n",
              "      <th>target</th>\n",
              "    </tr>\n",
              "  </thead>\n",
              "  <tbody>\n",
              "    <tr>\n",
              "      <th>0</th>\n",
              "      <td>['switchfoot', 'httptwitpiccom2y1zl', 'awww', ...</td>\n",
              "      <td>0</td>\n",
              "    </tr>\n",
              "    <tr>\n",
              "      <th>1</th>\n",
              "      <td>['is', 'upset', 'that', 'he', 'cant', 'update'...</td>\n",
              "      <td>0</td>\n",
              "    </tr>\n",
              "    <tr>\n",
              "      <th>2</th>\n",
              "      <td>['kenichan', 'i', 'dived', 'many', 'times', 'f...</td>\n",
              "      <td>0</td>\n",
              "    </tr>\n",
              "    <tr>\n",
              "      <th>3</th>\n",
              "      <td>['my', 'whole', 'body', 'feels', 'itchy', 'and...</td>\n",
              "      <td>0</td>\n",
              "    </tr>\n",
              "    <tr>\n",
              "      <th>4</th>\n",
              "      <td>['nationwideclass', 'no', 'its', 'not', 'behav...</td>\n",
              "      <td>0</td>\n",
              "    </tr>\n",
              "  </tbody>\n",
              "</table>\n",
              "</div>"
            ],
            "text/plain": [
              "                                                text  target\n",
              "0  ['switchfoot', 'httptwitpiccom2y1zl', 'awww', ...       0\n",
              "1  ['is', 'upset', 'that', 'he', 'cant', 'update'...       0\n",
              "2  ['kenichan', 'i', 'dived', 'many', 'times', 'f...       0\n",
              "3  ['my', 'whole', 'body', 'feels', 'itchy', 'and...       0\n",
              "4  ['nationwideclass', 'no', 'its', 'not', 'behav...       0"
            ]
          },
          "metadata": {
            "tags": []
          },
          "execution_count": 10
        }
      ]
    },
    {
      "cell_type": "code",
      "metadata": {
        "id": "6po0zWdfz20U",
        "colab_type": "code",
        "outputId": "7f80d0f6-15b0-43e7-8bc9-8277e8644e78",
        "colab": {
          "base_uri": "https://localhost:8080/",
          "height": 151
        }
      },
      "source": [
        "X_train,X_test,y_train,y_test=train_test_split(data['text'], data['target'], random_state = 0)\n",
        "vect= TfidfVectorizer(min_df=5,ngram_range=(1,3)).fit(X_train)\n",
        "X_train_vectorized = vect.transform(X_train)\n",
        "model1=LogisticRegression(solver='sag',penalty='l2').fit(X_train_vectorized,y_train)\n",
        "predicted=model1.predict(vect.transform(X_test))\n",
        "print('AUC: ', roc_auc_score(y_test, predicted))\n",
        "\n",
        "feature_names = np.array(vect.get_feature_names())\n",
        "\n",
        "# Sort the coefficients from the model\n",
        "sorted_coef_index = model1.coef_[0].argsort()\n",
        "\n",
        "# Find the 10 smallest and 10 largest coefficients\n",
        "# The 10 largest coefficients are being indexed using [:-11:-1] \n",
        "# so the list returned is in order of largest to smallest\n",
        "print('Smallest Coefs:\\n{}\\n'.format(feature_names[sorted_coef_index[:10]]))\n",
        "print('Largest Coefs: \\n{}'.format(feature_names[sorted_coef_index[:-11:-1]]))"
      ],
      "execution_count": 0,
      "outputs": [
        {
          "output_type": "stream",
          "text": [
            "AUC:  0.825442428625112\n",
            "Smallest Coefs:\n",
            "['sad' 'miss' 'cant' 'poor' 'sick' 'missing' 'sucks' 'sadly' 'wish'\n",
            " 'unfortunately']\n",
            "\n",
            "Largest Coefs: \n",
            "['cant wait' 'not bad' 'dont have to' 'no problem' 'happy' 'excited'\n",
            " 'thanks' 'smile' 'welcome' 'awesome']\n"
          ],
          "name": "stdout"
        }
      ]
    },
    {
      "cell_type": "code",
      "metadata": {
        "id": "_od-jemK1Qk4",
        "colab_type": "code",
        "outputId": "3bb06bdf-7ed7-4a03-db69-d6b5d779f7f1",
        "colab": {
          "base_uri": "https://localhost:8080/",
          "height": 34
        }
      },
      "source": [
        "import tweepy\n",
        "from tweepy import OAuthHandler \n",
        "consumer_key = '****************************'\n",
        "consumer_secret = '***********************************'\n",
        "access_token = '*****************************************'\n",
        "access_token_secret = '*********************************'\n",
        "\n",
        "auth = tweepy.OAuthHandler(consumer_key, consumer_secret)\n",
        "auth.set_access_token(access_token, access_token_secret)\n",
        "api = tweepy.API(auth)\n",
        "print('Twitter API athorization done')"
      ],
      "execution_count": 0,
      "outputs": [
        {
          "output_type": "stream",
          "text": [
            "Twitter API athorization done\n"
          ],
          "name": "stdout"
        }
      ]
    },
    {
      "cell_type": "code",
      "metadata": {
        "id": "ka3AVzBG4IzS",
        "colab_type": "code",
        "outputId": "41484272-f2db-4a2b-ab7f-7d41da1f1309",
        "colab": {
          "base_uri": "https://localhost:8080/",
          "height": 54
        }
      },
      "source": [
        "api.update_status('Hello ,this is Dhanomar1 taking oover this account for the next 5 seconds')"
      ],
      "execution_count": 0,
      "outputs": [
        {
          "output_type": "execute_result",
          "data": {
            "text/plain": [
              "Status(_api=<tweepy.api.API object at 0x7f4e3c31ab38>, _json={'created_at': 'Wed Nov 06 18:15:28 +0000 2019', 'id': 1192143478387441664, 'id_str': '1192143478387441664', 'text': 'Hello ,this is Dhanomar1 taking oover this account for the next 5 seconds', 'truncated': False, 'entities': {'hashtags': [], 'symbols': [], 'user_mentions': [], 'urls': []}, 'source': '<a href=\"https://github.com/RajBharti25\" rel=\"nofollow\">Rajbharti</a>', 'in_reply_to_status_id': None, 'in_reply_to_status_id_str': None, 'in_reply_to_user_id': None, 'in_reply_to_user_id_str': None, 'in_reply_to_screen_name': None, 'user': {'id': 1190241726855708673, 'id_str': '1190241726855708673', 'name': 'Raj Bharti', 'screen_name': 'RajBhar22835505', 'location': '', 'description': 'I am a student', 'url': None, 'entities': {'description': {'urls': []}}, 'protected': False, 'followers_count': 0, 'friends_count': 7, 'listed_count': 0, 'created_at': 'Fri Nov 01 12:19:03 +0000 2019', 'favourites_count': 0, 'utc_offset': None, 'time_zone': None, 'geo_enabled': False, 'verified': False, 'statuses_count': 7, 'lang': None, 'contributors_enabled': False, 'is_translator': False, 'is_translation_enabled': False, 'profile_background_color': 'F5F8FA', 'profile_background_image_url': None, 'profile_background_image_url_https': None, 'profile_background_tile': False, 'profile_image_url': 'http://pbs.twimg.com/profile_images/1190241943701377025/pCmUP4EE_normal.jpg', 'profile_image_url_https': 'https://pbs.twimg.com/profile_images/1190241943701377025/pCmUP4EE_normal.jpg', 'profile_link_color': '1DA1F2', 'profile_sidebar_border_color': 'C0DEED', 'profile_sidebar_fill_color': 'DDEEF6', 'profile_text_color': '333333', 'profile_use_background_image': True, 'has_extended_profile': False, 'default_profile': True, 'default_profile_image': False, 'can_media_tag': True, 'followed_by': False, 'following': False, 'follow_request_sent': False, 'notifications': False, 'translator_type': 'none'}, 'geo': None, 'coordinates': None, 'place': None, 'contributors': None, 'is_quote_status': False, 'retweet_count': 0, 'favorite_count': 0, 'favorited': False, 'retweeted': False, 'lang': 'en'}, created_at=datetime.datetime(2019, 11, 6, 18, 15, 28), id=1192143478387441664, id_str='1192143478387441664', text='Hello ,this is Dhanomar1 taking oover this account for the next 5 seconds', truncated=False, entities={'hashtags': [], 'symbols': [], 'user_mentions': [], 'urls': []}, source='Rajbharti', source_url='https://github.com/RajBharti25', in_reply_to_status_id=None, in_reply_to_status_id_str=None, in_reply_to_user_id=None, in_reply_to_user_id_str=None, in_reply_to_screen_name=None, author=User(_api=<tweepy.api.API object at 0x7f4e3c31ab38>, _json={'id': 1190241726855708673, 'id_str': '1190241726855708673', 'name': 'Raj Bharti', 'screen_name': 'RajBhar22835505', 'location': '', 'description': 'I am a student', 'url': None, 'entities': {'description': {'urls': []}}, 'protected': False, 'followers_count': 0, 'friends_count': 7, 'listed_count': 0, 'created_at': 'Fri Nov 01 12:19:03 +0000 2019', 'favourites_count': 0, 'utc_offset': None, 'time_zone': None, 'geo_enabled': False, 'verified': False, 'statuses_count': 7, 'lang': None, 'contributors_enabled': False, 'is_translator': False, 'is_translation_enabled': False, 'profile_background_color': 'F5F8FA', 'profile_background_image_url': None, 'profile_background_image_url_https': None, 'profile_background_tile': False, 'profile_image_url': 'http://pbs.twimg.com/profile_images/1190241943701377025/pCmUP4EE_normal.jpg', 'profile_image_url_https': 'https://pbs.twimg.com/profile_images/1190241943701377025/pCmUP4EE_normal.jpg', 'profile_link_color': '1DA1F2', 'profile_sidebar_border_color': 'C0DEED', 'profile_sidebar_fill_color': 'DDEEF6', 'profile_text_color': '333333', 'profile_use_background_image': True, 'has_extended_profile': False, 'default_profile': True, 'default_profile_image': False, 'can_media_tag': True, 'followed_by': False, 'following': False, 'follow_request_sent': False, 'notifications': False, 'translator_type': 'none'}, id=1190241726855708673, id_str='1190241726855708673', name='Raj Bharti', screen_name='RajBhar22835505', location='', description='I am a student', url=None, entities={'description': {'urls': []}}, protected=False, followers_count=0, friends_count=7, listed_count=0, created_at=datetime.datetime(2019, 11, 1, 12, 19, 3), favourites_count=0, utc_offset=None, time_zone=None, geo_enabled=False, verified=False, statuses_count=7, lang=None, contributors_enabled=False, is_translator=False, is_translation_enabled=False, profile_background_color='F5F8FA', profile_background_image_url=None, profile_background_image_url_https=None, profile_background_tile=False, profile_image_url='http://pbs.twimg.com/profile_images/1190241943701377025/pCmUP4EE_normal.jpg', profile_image_url_https='https://pbs.twimg.com/profile_images/1190241943701377025/pCmUP4EE_normal.jpg', profile_link_color='1DA1F2', profile_sidebar_border_color='C0DEED', profile_sidebar_fill_color='DDEEF6', profile_text_color='333333', profile_use_background_image=True, has_extended_profile=False, default_profile=True, default_profile_image=False, can_media_tag=True, followed_by=False, following=False, follow_request_sent=False, notifications=False, translator_type='none'), user=User(_api=<tweepy.api.API object at 0x7f4e3c31ab38>, _json={'id': 1190241726855708673, 'id_str': '1190241726855708673', 'name': 'Raj Bharti', 'screen_name': 'RajBhar22835505', 'location': '', 'description': 'I am a student', 'url': None, 'entities': {'description': {'urls': []}}, 'protected': False, 'followers_count': 0, 'friends_count': 7, 'listed_count': 0, 'created_at': 'Fri Nov 01 12:19:03 +0000 2019', 'favourites_count': 0, 'utc_offset': None, 'time_zone': None, 'geo_enabled': False, 'verified': False, 'statuses_count': 7, 'lang': None, 'contributors_enabled': False, 'is_translator': False, 'is_translation_enabled': False, 'profile_background_color': 'F5F8FA', 'profile_background_image_url': None, 'profile_background_image_url_https': None, 'profile_background_tile': False, 'profile_image_url': 'http://pbs.twimg.com/profile_images/1190241943701377025/pCmUP4EE_normal.jpg', 'profile_image_url_https': 'https://pbs.twimg.com/profile_images/1190241943701377025/pCmUP4EE_normal.jpg', 'profile_link_color': '1DA1F2', 'profile_sidebar_border_color': 'C0DEED', 'profile_sidebar_fill_color': 'DDEEF6', 'profile_text_color': '333333', 'profile_use_background_image': True, 'has_extended_profile': False, 'default_profile': True, 'default_profile_image': False, 'can_media_tag': True, 'followed_by': False, 'following': False, 'follow_request_sent': False, 'notifications': False, 'translator_type': 'none'}, id=1190241726855708673, id_str='1190241726855708673', name='Raj Bharti', screen_name='RajBhar22835505', location='', description='I am a student', url=None, entities={'description': {'urls': []}}, protected=False, followers_count=0, friends_count=7, listed_count=0, created_at=datetime.datetime(2019, 11, 1, 12, 19, 3), favourites_count=0, utc_offset=None, time_zone=None, geo_enabled=False, verified=False, statuses_count=7, lang=None, contributors_enabled=False, is_translator=False, is_translation_enabled=False, profile_background_color='F5F8FA', profile_background_image_url=None, profile_background_image_url_https=None, profile_background_tile=False, profile_image_url='http://pbs.twimg.com/profile_images/1190241943701377025/pCmUP4EE_normal.jpg', profile_image_url_https='https://pbs.twimg.com/profile_images/1190241943701377025/pCmUP4EE_normal.jpg', profile_link_color='1DA1F2', profile_sidebar_border_color='C0DEED', profile_sidebar_fill_color='DDEEF6', profile_text_color='333333', profile_use_background_image=True, has_extended_profile=False, default_profile=True, default_profile_image=False, can_media_tag=True, followed_by=False, following=False, follow_request_sent=False, notifications=False, translator_type='none'), geo=None, coordinates=None, place=None, contributors=None, is_quote_status=False, retweet_count=0, favorite_count=0, favorited=False, retweeted=False, lang='en')"
            ]
          },
          "metadata": {
            "tags": []
          },
          "execution_count": 19
        }
      ]
    },
    {
      "cell_type": "code",
      "metadata": {
        "id": "177bVVyt4O4G",
        "colab_type": "code",
        "outputId": "6a675627-1c94-4fd9-9cf3-a448c98f9621",
        "colab": {
          "base_uri": "https://localhost:8080/",
          "height": 313
        }
      },
      "source": [
        "def get_tweets(username):\n",
        "        consumer_key = 'MgzIcNUK4ZObyOfilFVgzo9r1'\n",
        "        consumer_secret = 'VG8dU5AVJJTjPid4jFznl2h8dA5CmOSoraPwGKRsWthTzcyAwX'\n",
        "        access_key = '1190241726855708673-9x2izOzRpb6cJpxPAfbRqVvO3sEFuh'\n",
        "        access_secret = 'oso3XdEdfE6qZiYs84lYrC0D4IR4a8RWv8PnDivJ6tj1f' \n",
        "        # Authorization to consumer key and consumer secret \n",
        "        auth = tweepy.OAuthHandler(consumer_key, consumer_secret) \n",
        "  \n",
        "        # Access to user's access key and access secret \n",
        "        auth.set_access_token(access_key, access_secret) \n",
        "  \n",
        "        # Calling api \n",
        "        api = tweepy.API(auth) \n",
        "  \n",
        "        # 200 tweets to be extracted \n",
        "        number_of_tweets=5\n",
        "        tweets = api.user_timeline(screen_name=username,count=number_of_tweets) \n",
        "  \n",
        "        # Empty Array \n",
        "        processed_tweet=[] \n",
        "        tweet=[]\n",
        "        score=[]\n",
        "  \n",
        "        # create array of tweet information: username,  \n",
        "        # tweet id, date/time, text \n",
        "        tweets_for_csv = [tweet.text for tweet in tweets] # CSV file created  \n",
        "        for j in tweets_for_csv: \n",
        "            # Appending tweets to the empty array tmp \n",
        "            tweet.append(j)\n",
        "            print('\\n',j)\n",
        "            #j=re.sub(r'^https?:\\/\\/.*[\\r\\n]*', '', j, flags=re.MULTILINE)\n",
        "            j=re.sub(r'http\\S+', '', j)\n",
        "            j=re.sub(r'(@\\S+)','',j)\n",
        "            j=re.sub('[^a-zA-z0-9\\s]',' ',j)\n",
        "            j=re.sub('RT','',j)\n",
        "            j=j.replace('RT','')\n",
        "            j=re.sub('(\\n)+','',j)\n",
        "            processed_tweet.append(j)\n",
        "            j=[j]\n",
        "            print('\\n',j)\n",
        "            print(model1.predict(vect.transform(j)))\n",
        "            score.append(model1.predict(vect.transform(j)))\n",
        "        # Printing the tweets \n",
        "        tweet=pd.Series(tweet)\n",
        "        processed_tweet=pd.Series(processed_tweet)\n",
        "        score=pd.Series(score)\n",
        "        tweet_dataset=pd.DataFrame(dict(tweet = tweet, processed_tweet=processed_tweet, score = score)).reset_index()\n",
        "        print(tweet_dataset.iloc[5,[1,3]])\n",
        "  \n",
        "  \n",
        "# Driver code \n",
        "if __name__ == '__main__':\n",
        "  \n",
        "    # Here goes the twitter handle for the user \n",
        "    # whose tweets are to be extracted. \n",
        "    get_tweets(\"@suhasinih\")"
      ],
      "execution_count": 0,
      "outputs": [
        {
          "output_type": "error",
          "ename": "NameError",
          "evalue": "ignored",
          "traceback": [
            "\u001b[0;31m---------------------------------------------------------------------------\u001b[0m",
            "\u001b[0;31mNameError\u001b[0m                                 Traceback (most recent call last)",
            "\u001b[0;32m<ipython-input-1-8be30323f8e7>\u001b[0m in \u001b[0;36m<module>\u001b[0;34m()\u001b[0m\n\u001b[1;32m     54\u001b[0m     \u001b[0;31m# Here goes the twitter handle for the user\u001b[0m\u001b[0;34m\u001b[0m\u001b[0;34m\u001b[0m\u001b[0;34m\u001b[0m\u001b[0m\n\u001b[1;32m     55\u001b[0m     \u001b[0;31m# whose tweets are to be extracted.\u001b[0m\u001b[0;34m\u001b[0m\u001b[0;34m\u001b[0m\u001b[0;34m\u001b[0m\u001b[0m\n\u001b[0;32m---> 56\u001b[0;31m     \u001b[0mget_tweets\u001b[0m\u001b[0;34m(\u001b[0m\u001b[0;34m\"@suhasinih\"\u001b[0m\u001b[0;34m)\u001b[0m\u001b[0;34m\u001b[0m\u001b[0;34m\u001b[0m\u001b[0m\n\u001b[0m",
            "\u001b[0;32m<ipython-input-1-8be30323f8e7>\u001b[0m in \u001b[0;36mget_tweets\u001b[0;34m(username)\u001b[0m\n\u001b[1;32m      5\u001b[0m         \u001b[0maccess_secret\u001b[0m \u001b[0;34m=\u001b[0m \u001b[0;34m'oso3XdEdfE6qZiYs84lYrC0D4IR4a8RWv8PnDivJ6tj1f'\u001b[0m\u001b[0;34m\u001b[0m\u001b[0;34m\u001b[0m\u001b[0m\n\u001b[1;32m      6\u001b[0m         \u001b[0;31m# Authorization to consumer key and consumer secret\u001b[0m\u001b[0;34m\u001b[0m\u001b[0;34m\u001b[0m\u001b[0;34m\u001b[0m\u001b[0m\n\u001b[0;32m----> 7\u001b[0;31m         \u001b[0mauth\u001b[0m \u001b[0;34m=\u001b[0m \u001b[0mtweepy\u001b[0m\u001b[0;34m.\u001b[0m\u001b[0mOAuthHandler\u001b[0m\u001b[0;34m(\u001b[0m\u001b[0mconsumer_key\u001b[0m\u001b[0;34m,\u001b[0m \u001b[0mconsumer_secret\u001b[0m\u001b[0;34m)\u001b[0m\u001b[0;34m\u001b[0m\u001b[0;34m\u001b[0m\u001b[0m\n\u001b[0m\u001b[1;32m      8\u001b[0m \u001b[0;34m\u001b[0m\u001b[0m\n\u001b[1;32m      9\u001b[0m         \u001b[0;31m# Access to user's access key and access secret\u001b[0m\u001b[0;34m\u001b[0m\u001b[0;34m\u001b[0m\u001b[0;34m\u001b[0m\u001b[0m\n",
            "\u001b[0;31mNameError\u001b[0m: name 'tweepy' is not defined"
          ]
        }
      ]
    },
    {
      "cell_type": "code",
      "metadata": {
        "id": "Rkp2SytEFFkP",
        "colab_type": "code",
        "colab": {}
      },
      "source": [
        ""
      ],
      "execution_count": 0,
      "outputs": []
    }
  ]
}